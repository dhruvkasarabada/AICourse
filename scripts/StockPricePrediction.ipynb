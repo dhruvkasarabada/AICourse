{
  "nbformat": 4,
  "nbformat_minor": 0,
  "metadata": {
    "colab": {
      "name": "StockPricePrediction.ipynb",
      "provenance": []
    },
    "kernelspec": {
      "name": "python3",
      "display_name": "Python 3"
    },
    "language_info": {
      "name": "python"
    }
  },
  "cells": [
    {
      "cell_type": "markdown",
      "source": [
        "**Libraries and Settings:**"
      ],
      "metadata": {
        "id": "kTjt2lRs3six"
      }
    },
    {
      "cell_type": "code",
      "execution_count": null,
      "metadata": {
        "id": "3i_EN0hIv_-X",
        "colab": {
          "base_uri": "https://localhost:8080/"
        },
        "outputId": "fc3998d4-4632-4e27-bd4e-a16c8759aa43"
      },
      "outputs": [
        {
          "output_type": "stream",
          "name": "stdout",
          "text": [
            "/: ['sys', 'media', 'etc', 'lib', 'tmp', 'srv', 'dev', 'var', 'boot', 'lib64', 'opt', 'home', 'proc', 'root', 'bin', 'usr', 'mnt', 'sbin', 'run', 'content', '.dockerenv', 'datalab', 'tools', 'tensorflow-1.15.2', 'lib32', 'python-apt']\n",
            "/content: ['.config', 'drive', 'sample_data']\n"
          ]
        }
      ],
      "source": [
        "import numpy as np\n",
        "import pandas as pd\n",
        "import math\n",
        "import sklearn\n",
        "import sklearn.preprocessing\n",
        "import datetime\n",
        "import os\n",
        "import matplotlib.pyplot as plt\n",
        "import tensorflow as tf\n",
        "\n",
        "# split data in 80%/10%/10% train/validation/test sets\n",
        "valid_set_size_percentage = 10 \n",
        "test_set_size_percentage = 10 \n",
        "\n",
        "#display parent directory and working directory\n",
        "print(os.path.dirname(os.getcwd())+':', os.listdir(os.path.dirname(os.getcwd())));\n",
        "print(os.getcwd()+':', os.listdir(os.getcwd()));\n"
      ]
    },
    {
      "cell_type": "code",
      "source": [
        "# Import PyDrive and associated libraries.\n",
        "# This only needs to be done once per notebook.\n",
        "from pydrive.auth import GoogleAuth\n",
        "from pydrive.drive import GoogleDrive\n",
        "from google.colab import auth\n",
        "from oauth2client.client import GoogleCredentials\n",
        "\n",
        "# Authenticate and create the PyDrive client.\n",
        "# This only needs to be done once per notebook.\n",
        "auth.authenticate_user()\n",
        "gauth = GoogleAuth()\n",
        "gauth.credentials = GoogleCredentials.get_application_default()\n",
        "drive = GoogleDrive(gauth)"
      ],
      "metadata": {
        "id": "TIh3y8M92CF1"
      },
      "execution_count": null,
      "outputs": []
    },
    {
      "cell_type": "code",
      "source": [
        "from google.colab import drive \n",
        "drive.mount('/content/drive')"
      ],
      "metadata": {
        "colab": {
          "base_uri": "https://localhost:8080/"
        },
        "id": "DmtZa7_P2VSG",
        "outputId": "a42fb137-97d1-42aa-e5ee-5eaf28501bf7"
      },
      "execution_count": null,
      "outputs": [
        {
          "output_type": "stream",
          "name": "stdout",
          "text": [
            "Mounted at /content/drive\n"
          ]
        }
      ]
    },
    {
      "cell_type": "markdown",
      "source": [
        "**Analyzing the Data**"
      ],
      "metadata": {
        "id": "jq8ecRxX4G3t"
      }
    },
    {
      "cell_type": "code",
      "source": [
        "# import all stock prices \n",
        "df = pd.read_csv(\"/content/drive/MyDrive/Colab Notebooks/Columbia Project/prices-split-adjusted.csv.zip\", index_col = 0)\n",
        "df.info()\n",
        "df.head()\n",
        "\n",
        "# number of different stocks\n",
        "print('\\nnumber of different stocks: ', len(list(set(df.symbol))))\n",
        "print(list(set(df.symbol))[:10])"
      ],
      "metadata": {
        "colab": {
          "base_uri": "https://localhost:8080/"
        },
        "id": "SfhHRzbTxS80",
        "outputId": "02ee2fde-c1ab-4cf8-d8b7-3471c6de86ee"
      },
      "execution_count": null,
      "outputs": [
        {
          "output_type": "stream",
          "name": "stdout",
          "text": [
            "<class 'pandas.core.frame.DataFrame'>\n",
            "Index: 851264 entries, 2016-01-05 to 2016-12-30\n",
            "Data columns (total 6 columns):\n",
            " #   Column  Non-Null Count   Dtype  \n",
            "---  ------  --------------   -----  \n",
            " 0   symbol  851264 non-null  object \n",
            " 1   open    851264 non-null  float64\n",
            " 2   close   851264 non-null  float64\n",
            " 3   low     851264 non-null  float64\n",
            " 4   high    851264 non-null  float64\n",
            " 5   volume  851264 non-null  float64\n",
            "dtypes: float64(5), object(1)\n",
            "memory usage: 45.5+ MB\n",
            "\n",
            "number of different stocks:  501\n",
            "['KO', 'CSX', 'ZION', 'KLAC', 'XEC', 'MTB', 'FTR', 'SRE', 'GOOG', 'ALL']\n"
          ]
        }
      ]
    },
    {
      "cell_type": "code",
      "source": [
        "df.info()"
      ],
      "metadata": {
        "colab": {
          "base_uri": "https://localhost:8080/"
        },
        "id": "MT-2fEs73VSF",
        "outputId": "5d953c58-53f2-476e-e319-9f7483ba660d"
      },
      "execution_count": null,
      "outputs": [
        {
          "output_type": "stream",
          "name": "stdout",
          "text": [
            "<class 'pandas.core.frame.DataFrame'>\n",
            "Index: 851264 entries, 2016-01-05 to 2016-12-30\n",
            "Data columns (total 6 columns):\n",
            " #   Column  Non-Null Count   Dtype  \n",
            "---  ------  --------------   -----  \n",
            " 0   symbol  851264 non-null  object \n",
            " 1   open    851264 non-null  float64\n",
            " 2   close   851264 non-null  float64\n",
            " 3   low     851264 non-null  float64\n",
            " 4   high    851264 non-null  float64\n",
            " 5   volume  851264 non-null  float64\n",
            "dtypes: float64(5), object(1)\n",
            "memory usage: 45.5+ MB\n"
          ]
        }
      ]
    },
    {
      "cell_type": "code",
      "source": [
        "df.tail()"
      ],
      "metadata": {
        "colab": {
          "base_uri": "https://localhost:8080/",
          "height": 238
        },
        "id": "gpjpmCDj3XGH",
        "outputId": "fcb3e6c5-e603-430b-94f8-8b30ed586882"
      },
      "execution_count": null,
      "outputs": [
        {
          "output_type": "execute_result",
          "data": {
            "text/plain": [
              "           symbol        open       close         low        high     volume\n",
              "date                                                                        \n",
              "2016-12-30    ZBH  103.309998  103.199997  102.849998  103.930000   973800.0\n",
              "2016-12-30   ZION   43.070000   43.040001   42.689999   43.310001  1938100.0\n",
              "2016-12-30    ZTS   53.639999   53.529999   53.270000   53.740002  1701200.0\n",
              "2016-12-30    AIV   44.730000   45.450001   44.410000   45.590000  1380900.0\n",
              "2016-12-30    FTV   54.200001   53.630001   53.389999   54.480000   705100.0"
            ],
            "text/html": [
              "\n",
              "  <div id=\"df-dce0ff88-5a62-4e0c-9189-f8a42bab4b8c\">\n",
              "    <div class=\"colab-df-container\">\n",
              "      <div>\n",
              "<style scoped>\n",
              "    .dataframe tbody tr th:only-of-type {\n",
              "        vertical-align: middle;\n",
              "    }\n",
              "\n",
              "    .dataframe tbody tr th {\n",
              "        vertical-align: top;\n",
              "    }\n",
              "\n",
              "    .dataframe thead th {\n",
              "        text-align: right;\n",
              "    }\n",
              "</style>\n",
              "<table border=\"1\" class=\"dataframe\">\n",
              "  <thead>\n",
              "    <tr style=\"text-align: right;\">\n",
              "      <th></th>\n",
              "      <th>symbol</th>\n",
              "      <th>open</th>\n",
              "      <th>close</th>\n",
              "      <th>low</th>\n",
              "      <th>high</th>\n",
              "      <th>volume</th>\n",
              "    </tr>\n",
              "    <tr>\n",
              "      <th>date</th>\n",
              "      <th></th>\n",
              "      <th></th>\n",
              "      <th></th>\n",
              "      <th></th>\n",
              "      <th></th>\n",
              "      <th></th>\n",
              "    </tr>\n",
              "  </thead>\n",
              "  <tbody>\n",
              "    <tr>\n",
              "      <th>2016-12-30</th>\n",
              "      <td>ZBH</td>\n",
              "      <td>103.309998</td>\n",
              "      <td>103.199997</td>\n",
              "      <td>102.849998</td>\n",
              "      <td>103.930000</td>\n",
              "      <td>973800.0</td>\n",
              "    </tr>\n",
              "    <tr>\n",
              "      <th>2016-12-30</th>\n",
              "      <td>ZION</td>\n",
              "      <td>43.070000</td>\n",
              "      <td>43.040001</td>\n",
              "      <td>42.689999</td>\n",
              "      <td>43.310001</td>\n",
              "      <td>1938100.0</td>\n",
              "    </tr>\n",
              "    <tr>\n",
              "      <th>2016-12-30</th>\n",
              "      <td>ZTS</td>\n",
              "      <td>53.639999</td>\n",
              "      <td>53.529999</td>\n",
              "      <td>53.270000</td>\n",
              "      <td>53.740002</td>\n",
              "      <td>1701200.0</td>\n",
              "    </tr>\n",
              "    <tr>\n",
              "      <th>2016-12-30</th>\n",
              "      <td>AIV</td>\n",
              "      <td>44.730000</td>\n",
              "      <td>45.450001</td>\n",
              "      <td>44.410000</td>\n",
              "      <td>45.590000</td>\n",
              "      <td>1380900.0</td>\n",
              "    </tr>\n",
              "    <tr>\n",
              "      <th>2016-12-30</th>\n",
              "      <td>FTV</td>\n",
              "      <td>54.200001</td>\n",
              "      <td>53.630001</td>\n",
              "      <td>53.389999</td>\n",
              "      <td>54.480000</td>\n",
              "      <td>705100.0</td>\n",
              "    </tr>\n",
              "  </tbody>\n",
              "</table>\n",
              "</div>\n",
              "      <button class=\"colab-df-convert\" onclick=\"convertToInteractive('df-dce0ff88-5a62-4e0c-9189-f8a42bab4b8c')\"\n",
              "              title=\"Convert this dataframe to an interactive table.\"\n",
              "              style=\"display:none;\">\n",
              "        \n",
              "  <svg xmlns=\"http://www.w3.org/2000/svg\" height=\"24px\"viewBox=\"0 0 24 24\"\n",
              "       width=\"24px\">\n",
              "    <path d=\"M0 0h24v24H0V0z\" fill=\"none\"/>\n",
              "    <path d=\"M18.56 5.44l.94 2.06.94-2.06 2.06-.94-2.06-.94-.94-2.06-.94 2.06-2.06.94zm-11 1L8.5 8.5l.94-2.06 2.06-.94-2.06-.94L8.5 2.5l-.94 2.06-2.06.94zm10 10l.94 2.06.94-2.06 2.06-.94-2.06-.94-.94-2.06-.94 2.06-2.06.94z\"/><path d=\"M17.41 7.96l-1.37-1.37c-.4-.4-.92-.59-1.43-.59-.52 0-1.04.2-1.43.59L10.3 9.45l-7.72 7.72c-.78.78-.78 2.05 0 2.83L4 21.41c.39.39.9.59 1.41.59.51 0 1.02-.2 1.41-.59l7.78-7.78 2.81-2.81c.8-.78.8-2.07 0-2.86zM5.41 20L4 18.59l7.72-7.72 1.47 1.35L5.41 20z\"/>\n",
              "  </svg>\n",
              "      </button>\n",
              "      \n",
              "  <style>\n",
              "    .colab-df-container {\n",
              "      display:flex;\n",
              "      flex-wrap:wrap;\n",
              "      gap: 12px;\n",
              "    }\n",
              "\n",
              "    .colab-df-convert {\n",
              "      background-color: #E8F0FE;\n",
              "      border: none;\n",
              "      border-radius: 50%;\n",
              "      cursor: pointer;\n",
              "      display: none;\n",
              "      fill: #1967D2;\n",
              "      height: 32px;\n",
              "      padding: 0 0 0 0;\n",
              "      width: 32px;\n",
              "    }\n",
              "\n",
              "    .colab-df-convert:hover {\n",
              "      background-color: #E2EBFA;\n",
              "      box-shadow: 0px 1px 2px rgba(60, 64, 67, 0.3), 0px 1px 3px 1px rgba(60, 64, 67, 0.15);\n",
              "      fill: #174EA6;\n",
              "    }\n",
              "\n",
              "    [theme=dark] .colab-df-convert {\n",
              "      background-color: #3B4455;\n",
              "      fill: #D2E3FC;\n",
              "    }\n",
              "\n",
              "    [theme=dark] .colab-df-convert:hover {\n",
              "      background-color: #434B5C;\n",
              "      box-shadow: 0px 1px 3px 1px rgba(0, 0, 0, 0.15);\n",
              "      filter: drop-shadow(0px 1px 2px rgba(0, 0, 0, 0.3));\n",
              "      fill: #FFFFFF;\n",
              "    }\n",
              "  </style>\n",
              "\n",
              "      <script>\n",
              "        const buttonEl =\n",
              "          document.querySelector('#df-dce0ff88-5a62-4e0c-9189-f8a42bab4b8c button.colab-df-convert');\n",
              "        buttonEl.style.display =\n",
              "          google.colab.kernel.accessAllowed ? 'block' : 'none';\n",
              "\n",
              "        async function convertToInteractive(key) {\n",
              "          const element = document.querySelector('#df-dce0ff88-5a62-4e0c-9189-f8a42bab4b8c');\n",
              "          const dataTable =\n",
              "            await google.colab.kernel.invokeFunction('convertToInteractive',\n",
              "                                                     [key], {});\n",
              "          if (!dataTable) return;\n",
              "\n",
              "          const docLinkHtml = 'Like what you see? Visit the ' +\n",
              "            '<a target=\"_blank\" href=https://colab.research.google.com/notebooks/data_table.ipynb>data table notebook</a>'\n",
              "            + ' to learn more about interactive tables.';\n",
              "          element.innerHTML = '';\n",
              "          dataTable['output_type'] = 'display_data';\n",
              "          await google.colab.output.renderOutput(dataTable, element);\n",
              "          const docLink = document.createElement('div');\n",
              "          docLink.innerHTML = docLinkHtml;\n",
              "          element.appendChild(docLink);\n",
              "        }\n",
              "      </script>\n",
              "    </div>\n",
              "  </div>\n",
              "  "
            ]
          },
          "metadata": {},
          "execution_count": 13
        }
      ]
    },
    {
      "cell_type": "code",
      "source": [
        "df.describe()"
      ],
      "metadata": {
        "colab": {
          "base_uri": "https://localhost:8080/",
          "height": 300
        },
        "id": "ZQXmdx4N3fqU",
        "outputId": "a633e381-26b5-45ff-a7b6-3fab6296f4e2"
      },
      "execution_count": null,
      "outputs": [
        {
          "output_type": "execute_result",
          "data": {
            "text/plain": [
              "                open          close            low           high  \\\n",
              "count  851264.000000  851264.000000  851264.000000  851264.000000   \n",
              "mean       64.993618      65.011913      64.336541      65.639748   \n",
              "std        75.203893      75.201216      74.459518      75.906861   \n",
              "min         1.660000       1.590000       1.500000       1.810000   \n",
              "25%        31.270000      31.292776      30.940001      31.620001   \n",
              "50%        48.459999      48.480000      47.970001      48.959999   \n",
              "75%        75.120003      75.139999      74.400002      75.849998   \n",
              "max      1584.439941    1578.130005    1549.939941    1600.930054   \n",
              "\n",
              "             volume  \n",
              "count  8.512640e+05  \n",
              "mean   5.415113e+06  \n",
              "std    1.249468e+07  \n",
              "min    0.000000e+00  \n",
              "25%    1.221500e+06  \n",
              "50%    2.476250e+06  \n",
              "75%    5.222500e+06  \n",
              "max    8.596434e+08  "
            ],
            "text/html": [
              "\n",
              "  <div id=\"df-c2e5ff9d-8f58-44a3-9fe3-45326fcdeaca\">\n",
              "    <div class=\"colab-df-container\">\n",
              "      <div>\n",
              "<style scoped>\n",
              "    .dataframe tbody tr th:only-of-type {\n",
              "        vertical-align: middle;\n",
              "    }\n",
              "\n",
              "    .dataframe tbody tr th {\n",
              "        vertical-align: top;\n",
              "    }\n",
              "\n",
              "    .dataframe thead th {\n",
              "        text-align: right;\n",
              "    }\n",
              "</style>\n",
              "<table border=\"1\" class=\"dataframe\">\n",
              "  <thead>\n",
              "    <tr style=\"text-align: right;\">\n",
              "      <th></th>\n",
              "      <th>open</th>\n",
              "      <th>close</th>\n",
              "      <th>low</th>\n",
              "      <th>high</th>\n",
              "      <th>volume</th>\n",
              "    </tr>\n",
              "  </thead>\n",
              "  <tbody>\n",
              "    <tr>\n",
              "      <th>count</th>\n",
              "      <td>851264.000000</td>\n",
              "      <td>851264.000000</td>\n",
              "      <td>851264.000000</td>\n",
              "      <td>851264.000000</td>\n",
              "      <td>8.512640e+05</td>\n",
              "    </tr>\n",
              "    <tr>\n",
              "      <th>mean</th>\n",
              "      <td>64.993618</td>\n",
              "      <td>65.011913</td>\n",
              "      <td>64.336541</td>\n",
              "      <td>65.639748</td>\n",
              "      <td>5.415113e+06</td>\n",
              "    </tr>\n",
              "    <tr>\n",
              "      <th>std</th>\n",
              "      <td>75.203893</td>\n",
              "      <td>75.201216</td>\n",
              "      <td>74.459518</td>\n",
              "      <td>75.906861</td>\n",
              "      <td>1.249468e+07</td>\n",
              "    </tr>\n",
              "    <tr>\n",
              "      <th>min</th>\n",
              "      <td>1.660000</td>\n",
              "      <td>1.590000</td>\n",
              "      <td>1.500000</td>\n",
              "      <td>1.810000</td>\n",
              "      <td>0.000000e+00</td>\n",
              "    </tr>\n",
              "    <tr>\n",
              "      <th>25%</th>\n",
              "      <td>31.270000</td>\n",
              "      <td>31.292776</td>\n",
              "      <td>30.940001</td>\n",
              "      <td>31.620001</td>\n",
              "      <td>1.221500e+06</td>\n",
              "    </tr>\n",
              "    <tr>\n",
              "      <th>50%</th>\n",
              "      <td>48.459999</td>\n",
              "      <td>48.480000</td>\n",
              "      <td>47.970001</td>\n",
              "      <td>48.959999</td>\n",
              "      <td>2.476250e+06</td>\n",
              "    </tr>\n",
              "    <tr>\n",
              "      <th>75%</th>\n",
              "      <td>75.120003</td>\n",
              "      <td>75.139999</td>\n",
              "      <td>74.400002</td>\n",
              "      <td>75.849998</td>\n",
              "      <td>5.222500e+06</td>\n",
              "    </tr>\n",
              "    <tr>\n",
              "      <th>max</th>\n",
              "      <td>1584.439941</td>\n",
              "      <td>1578.130005</td>\n",
              "      <td>1549.939941</td>\n",
              "      <td>1600.930054</td>\n",
              "      <td>8.596434e+08</td>\n",
              "    </tr>\n",
              "  </tbody>\n",
              "</table>\n",
              "</div>\n",
              "      <button class=\"colab-df-convert\" onclick=\"convertToInteractive('df-c2e5ff9d-8f58-44a3-9fe3-45326fcdeaca')\"\n",
              "              title=\"Convert this dataframe to an interactive table.\"\n",
              "              style=\"display:none;\">\n",
              "        \n",
              "  <svg xmlns=\"http://www.w3.org/2000/svg\" height=\"24px\"viewBox=\"0 0 24 24\"\n",
              "       width=\"24px\">\n",
              "    <path d=\"M0 0h24v24H0V0z\" fill=\"none\"/>\n",
              "    <path d=\"M18.56 5.44l.94 2.06.94-2.06 2.06-.94-2.06-.94-.94-2.06-.94 2.06-2.06.94zm-11 1L8.5 8.5l.94-2.06 2.06-.94-2.06-.94L8.5 2.5l-.94 2.06-2.06.94zm10 10l.94 2.06.94-2.06 2.06-.94-2.06-.94-.94-2.06-.94 2.06-2.06.94z\"/><path d=\"M17.41 7.96l-1.37-1.37c-.4-.4-.92-.59-1.43-.59-.52 0-1.04.2-1.43.59L10.3 9.45l-7.72 7.72c-.78.78-.78 2.05 0 2.83L4 21.41c.39.39.9.59 1.41.59.51 0 1.02-.2 1.41-.59l7.78-7.78 2.81-2.81c.8-.78.8-2.07 0-2.86zM5.41 20L4 18.59l7.72-7.72 1.47 1.35L5.41 20z\"/>\n",
              "  </svg>\n",
              "      </button>\n",
              "      \n",
              "  <style>\n",
              "    .colab-df-container {\n",
              "      display:flex;\n",
              "      flex-wrap:wrap;\n",
              "      gap: 12px;\n",
              "    }\n",
              "\n",
              "    .colab-df-convert {\n",
              "      background-color: #E8F0FE;\n",
              "      border: none;\n",
              "      border-radius: 50%;\n",
              "      cursor: pointer;\n",
              "      display: none;\n",
              "      fill: #1967D2;\n",
              "      height: 32px;\n",
              "      padding: 0 0 0 0;\n",
              "      width: 32px;\n",
              "    }\n",
              "\n",
              "    .colab-df-convert:hover {\n",
              "      background-color: #E2EBFA;\n",
              "      box-shadow: 0px 1px 2px rgba(60, 64, 67, 0.3), 0px 1px 3px 1px rgba(60, 64, 67, 0.15);\n",
              "      fill: #174EA6;\n",
              "    }\n",
              "\n",
              "    [theme=dark] .colab-df-convert {\n",
              "      background-color: #3B4455;\n",
              "      fill: #D2E3FC;\n",
              "    }\n",
              "\n",
              "    [theme=dark] .colab-df-convert:hover {\n",
              "      background-color: #434B5C;\n",
              "      box-shadow: 0px 1px 3px 1px rgba(0, 0, 0, 0.15);\n",
              "      filter: drop-shadow(0px 1px 2px rgba(0, 0, 0, 0.3));\n",
              "      fill: #FFFFFF;\n",
              "    }\n",
              "  </style>\n",
              "\n",
              "      <script>\n",
              "        const buttonEl =\n",
              "          document.querySelector('#df-c2e5ff9d-8f58-44a3-9fe3-45326fcdeaca button.colab-df-convert');\n",
              "        buttonEl.style.display =\n",
              "          google.colab.kernel.accessAllowed ? 'block' : 'none';\n",
              "\n",
              "        async function convertToInteractive(key) {\n",
              "          const element = document.querySelector('#df-c2e5ff9d-8f58-44a3-9fe3-45326fcdeaca');\n",
              "          const dataTable =\n",
              "            await google.colab.kernel.invokeFunction('convertToInteractive',\n",
              "                                                     [key], {});\n",
              "          if (!dataTable) return;\n",
              "\n",
              "          const docLinkHtml = 'Like what you see? Visit the ' +\n",
              "            '<a target=\"_blank\" href=https://colab.research.google.com/notebooks/data_table.ipynb>data table notebook</a>'\n",
              "            + ' to learn more about interactive tables.';\n",
              "          element.innerHTML = '';\n",
              "          dataTable['output_type'] = 'display_data';\n",
              "          await google.colab.output.renderOutput(dataTable, element);\n",
              "          const docLink = document.createElement('div');\n",
              "          docLink.innerHTML = docLinkHtml;\n",
              "          element.appendChild(docLink);\n",
              "        }\n",
              "      </script>\n",
              "    </div>\n",
              "  </div>\n",
              "  "
            ]
          },
          "metadata": {},
          "execution_count": 14
        }
      ]
    },
    {
      "cell_type": "code",
      "source": [
        "plt.figure(figsize=(15, 5));\n",
        "plt.subplot(1,2,1);\n",
        "plt.plot(df[df.symbol == 'EQIX'].open.values, color='red', label='open')\n",
        "plt.plot(df[df.symbol == 'EQIX'].close.values, color='green', label='close')\n",
        "plt.plot(df[df.symbol == 'EQIX'].low.values, color='blue', label='low')\n",
        "plt.plot(df[df.symbol == 'EQIX'].high.values, color='black', label='high')\n",
        "plt.title('stock price')\n",
        "plt.xlabel('time [days]')\n",
        "plt.ylabel('price')\n",
        "plt.legend(loc='best')\n",
        "#plt.show()\n",
        "\n",
        "plt.subplot(1,2,2);\n",
        "plt.plot(df[df.symbol == 'EQIX'].volume.values, color='black', label='volume')\n",
        "plt.title('stock volume')\n",
        "plt.xlabel('time [days]')\n",
        "plt.ylabel('volume')\n",
        "plt.legend(loc='best');"
      ],
      "metadata": {
        "colab": {
          "base_uri": "https://localhost:8080/",
          "height": 350
        },
        "id": "ro5fQyKt3mUI",
        "outputId": "e331b44b-895b-467b-c906-d8d2f9d8c31e"
      },
      "execution_count": null,
      "outputs": [
        {
          "output_type": "display_data",
          "data": {
            "text/plain": [
              "<Figure size 1080x360 with 2 Axes>"
            ],
            "image/png": "[encoded data removed]"
          },
          "metadata": {
            "needs_background": "light"
          }
        }
      ]
    },
    {
      "cell_type": "markdown",
      "source": [
        "**Manipulating the Data:**"
      ],
      "metadata": {
        "id": "o_2rDmQr4NOe"
      }
    },
    {
      "cell_type": "code",
      "source": [
        "# function for min-max normalization of stock\n",
        "def normalize_data(df):\n",
        "    min_max_scaler = sklearn.preprocessing.MinMaxScaler()\n",
        "    df['open'] = min_max_scaler.fit_transform(df.open.values.reshape(-1,1))\n",
        "    df['high'] = min_max_scaler.fit_transform(df.high.values.reshape(-1,1))\n",
        "    df['low'] = min_max_scaler.fit_transform(df.low.values.reshape(-1,1))\n",
        "    df['close'] = min_max_scaler.fit_transform(df['close'].values.reshape(-1,1))\n",
        "    return df\n",
        "\n",
        "# function to create train, validation, test data given stock data and sequence length\n",
        "def load_data(stock, seq_len):\n",
        "    data_raw = stock.values # convert to numpy array\n",
        "    data = []\n",
        "    \n",
        "    # create all possible sequences of length seq_len\n",
        "    for index in range(len(data_raw) - seq_len): \n",
        "        data.append(data_raw[index: index + seq_len])\n",
        "    \n",
        "    data = np.array(data);\n",
        "    valid_set_size = int(np.round(valid_set_size_percentage/100*data.shape[0]));  \n",
        "    test_set_size = int(np.round(test_set_size_percentage/100*data.shape[0]));\n",
        "    train_set_size = data.shape[0] - (valid_set_size + test_set_size);\n",
        "    \n",
        "    x_train = data[:train_set_size,:-1,:]\n",
        "    y_train = data[:train_set_size,-1,:]\n",
        "    \n",
        "    x_valid = data[train_set_size:train_set_size+valid_set_size,:-1,:]\n",
        "    y_valid = data[train_set_size:train_set_size+valid_set_size,-1,:]\n",
        "\n",
        "    x_test = data[train_set_size+valid_set_size:,:-1,:]\n",
        "    y_test = data[train_set_size+valid_set_size:,-1,:]\n",
        "    \n",
        "    return [x_train, y_train, x_valid, y_valid, x_test, y_test]\n",
        "\n",
        "# choose one stock\n",
        "df_stock = df[df.symbol == 'EQIX'].copy()\n",
        "df_stock.drop(['symbol'],1,inplace=True)\n",
        "df_stock.drop(['volume'],1,inplace=True)\n",
        "\n",
        "cols = list(df_stock.columns.values)\n",
        "print('df_stock.columns.values = ', cols)\n",
        "\n",
        "# normalize stock\n",
        "df_stock_norm = df_stock.copy()\n",
        "df_stock_norm = normalize_data(df_stock_norm)\n",
        "\n",
        "# create train, test data\n",
        "seq_len = 20 # choose sequence length\n",
        "x_train, y_train, x_valid, y_valid, x_test, y_test = load_data(df_stock_norm, seq_len)\n",
        "print('x_train.shape = ',x_train.shape)\n",
        "print('y_train.shape = ', y_train.shape)\n",
        "print('x_valid.shape = ',x_valid.shape)\n",
        "print('y_valid.shape = ', y_valid.shape)\n",
        "print('x_test.shape = ', x_test.shape)\n",
        "print('y_test.shape = ',y_test.shape)"
      ],
      "metadata": {
        "colab": {
          "base_uri": "https://localhost:8080/"
        },
        "id": "BtWbmQwJ3pQE",
        "outputId": "39a8e845-93b6-4347-edc8-916b4a49fd61"
      },
      "execution_count": null,
      "outputs": [
        {
          "output_type": "stream",
          "name": "stdout",
          "text": [
            "df_stock.columns.values =  ['open', 'close', 'low', 'high']\n",
            "x_train.shape =  (1394, 19, 4)\n",
            "y_train.shape =  (1394, 4)\n",
            "x_valid.shape =  (174, 19, 4)\n",
            "y_valid.shape =  (174, 4)\n",
            "x_test.shape =  (174, 19, 4)\n",
            "y_test.shape =  (174, 4)\n"
          ]
        },
        {
          "output_type": "stream",
          "name": "stderr",
          "text": [
            "/usr/local/lib/python3.7/dist-packages/ipykernel_launcher.py:37: FutureWarning: In a future version of pandas all arguments of DataFrame.drop except for the argument 'labels' will be keyword-only\n",
            "/usr/local/lib/python3.7/dist-packages/ipykernel_launcher.py:38: FutureWarning: In a future version of pandas all arguments of DataFrame.drop except for the argument 'labels' will be keyword-only\n"
          ]
        }
      ]
    },
    {
      "cell_type": "code",
      "source": [
        "plt.figure(figsize=(15, 5));\n",
        "plt.plot(df_stock_norm.open.values, color='red', label='open')\n",
        "plt.plot(df_stock_norm.close.values, color='green', label='low')\n",
        "plt.plot(df_stock_norm.low.values, color='blue', label='low')\n",
        "plt.plot(df_stock_norm.high.values, color='black', label='high')\n",
        "#plt.plot(df_stock_norm.volume.values, color='gray', label='volume')\n",
        "plt.title('stock')\n",
        "plt.xlabel('time [days]')\n",
        "plt.ylabel('normalized price/volume')\n",
        "plt.legend(loc='best')\n",
        "plt.show()"
      ],
      "metadata": {
        "colab": {
          "base_uri": "https://localhost:8080/",
          "height": 350
        },
        "id": "mdKzMuLW6Z50",
        "outputId": "8917c663-9cb6-419d-c10f-e6e515a9d985"
      },
      "execution_count": null,
      "outputs": [
        {
          "output_type": "display_data",
          "data": {
            "text/plain": [
              "<Figure size 1080x360 with 1 Axes>"
            ],
            "image/png": "[encoded data removed]"
          },
          "metadata": {
            "needs_background": "light"
          }
        }
      ]
    },
    {
      "cell_type": "markdown",
      "source": [
        "**Model and Validate Data:**"
      ],
      "metadata": {
        "id": "TGRujJ8a6dUW"
      }
    },
    {
      "cell_type": "code",
      "source": [
        "index_in_epoch = 0;\n",
        "perm_array  = np.arange(x_train.shape[0])\n",
        "np.random.shuffle(perm_array)\n",
        "\n",
        "# function to get the next batch\n",
        "def get_next_batch(batch_size):\n",
        "    global index_in_epoch, x_train, perm_array   \n",
        "    start = index_in_epoch\n",
        "    index_in_epoch += batch_size\n",
        "    \n",
        "    if index_in_epoch > x_train.shape[0]:\n",
        "        np.random.shuffle(perm_array) # shuffle permutation array\n",
        "        start = 0 # start next epoch\n",
        "        index_in_epoch = batch_size\n",
        "        \n",
        "    end = index_in_epoch\n",
        "    return x_train[perm_array[start:end]], y_train[perm_array[start:end]]\n",
        "\n",
        "# parameters\n",
        "n_steps = seq_len-1 \n",
        "n_inputs = 4 \n",
        "n_neurons = 200 \n",
        "n_outputs = 4\n",
        "n_layers = 2\n",
        "learning_rate = 0.001\n",
        "batch_size = 50\n",
        "n_epochs = 100 \n",
        "train_set_size = x_train.shape[0]\n",
        "test_set_size = x_test.shape[0]\n",
        "\n",
        "tf.compat.v1.reset_default_graph()\n",
        "\n",
        "X = tf.placeholder(tf.float32, [None, n_steps, n_inputs])\n",
        "y = tf.placeholder(tf.float32, [None, n_outputs])\n",
        "\n",
        "# use Basic RNN Cell\n",
        "layers = [tf.contrib.rnn.BasicRNNCell(num_units=n_neurons, activation=tf.nn.elu)\n",
        "          for layer in range(n_layers)]\n",
        "\n",
        "# use Basic LSTM Cell \n",
        "#layers = [tf.contrib.rnn.BasicLSTMCell(num_units=n_neurons, activation=tf.nn.elu)\n",
        "#          for layer in range(n_layers)]\n",
        "\n",
        "# use LSTM Cell with peephole connections\n",
        "#layers = [tf.contrib.rnn.LSTMCell(num_units=n_neurons, \n",
        "#                                  activation=tf.nn.leaky_relu, use_peepholes = True)\n",
        "#          for layer in range(n_layers)]\n",
        "\n",
        "# use GRU cell\n",
        "#layers = [tf.contrib.rnn.GRUCell(num_units=n_neurons, activation=tf.nn.leaky_relu)\n",
        "#          for layer in range(n_layers)]\n",
        "                                                                     \n",
        "multi_layer_cell = tf.contrib.rnn.MultiRNNCell(layers)\n",
        "rnn_outputs, states = tf.nn.dynamic_rnn(multi_layer_cell, X, dtype=tf.float32)\n",
        "\n",
        "stacked_rnn_outputs = tf.reshape(rnn_outputs, [-1, n_neurons]) \n",
        "stacked_outputs = tf.layers.dense(stacked_rnn_outputs, n_outputs)\n",
        "outputs = tf.reshape(stacked_outputs, [-1, n_steps, n_outputs])\n",
        "outputs = outputs[:,n_steps-1,:] # keep only last output of sequence\n",
        "\n",
        "multi_layer_cell = tf.contrib.rnn.MultiRNNCell(layers)\n",
        "rnn_outputs, states = tf.nn.dynamic_rnn(multi_layer_cell, X, dtype=tf.float32)\n",
        "\n",
        "stacked_rnn_outputs = tf.reshape(rnn_outputs, [-1, n_neurons]) \n",
        "stacked_outputs = tf.layers.dense(stacked_rnn_outputs, n_outputs)\n",
        "outputs = tf.reshape(stacked_outputs, [-1, n_steps, n_outputs])\n",
        "outputs = outputs[:,n_steps-1,:] # keep only last output of sequence\n",
        "                                              \n",
        "loss = tf.reduce_mean(tf.square(outputs - y)) # loss function = mean squared error \n",
        "optimizer = tf.train.AdamOptimizer(learning_rate=learning_rate) \n",
        "training_op = optimizer.minimize(loss)\n",
        "                                              \n",
        "# run graph\n",
        "with tf.Session() as sess: \n",
        "    sess.run(tf.global_variables_initializer())\n",
        "    for iteration in range(int(n_epochs*train_set_size/batch_size)):\n",
        "        x_batch, y_batch = get_next_batch(batch_size) # fetch the next training batch \n",
        "        sess.run(training_op, feed_dict={X: x_batch, y: y_batch}) \n",
        "        if iteration % int(5*train_set_size/batch_size) == 0:\n",
        "            mse_train = loss.eval(feed_dict={X: x_train, y: y_train}) \n",
        "            mse_valid = loss.eval(feed_dict={X: x_valid, y: y_valid}) \n",
        "            print('%.2f epochs: MSE train/valid = %.6f/%.6f'%(\n",
        "                iteration*batch_size/train_set_size, mse_train, mse_valid))\n",
        "\n",
        "    y_train_pred = sess.run(outputs, feed_dict={X: x_train})\n",
        "    y_valid_pred = sess.run(outputs, feed_dict={X: x_valid})\n",
        "    y_test_pred = sess.run(outputs, feed_dict={X: x_test})"
      ],
      "metadata": {
        "colab": {
          "base_uri": "https://localhost:8080/",
          "height": 236
        },
        "id": "nQNzlxDW6hHL",
        "outputId": "b68ed1f4-ac51-458a-cf7b-5f3f2b06dcad"
      },
      "execution_count": null,
      "outputs": [
        {
          "output_type": "error",
          "ename": "AttributeError",
          "evalue": "ignored",
          "traceback": [
            "\u001b[0;31m---------------------------------------------------------------------------\u001b[0m",
            "\u001b[0;31mAttributeError\u001b[0m                            Traceback (most recent call last)",
            "\u001b[0;32m<ipython-input-39-d964080ba6a2>\u001b[0m in \u001b[0;36m<module>\u001b[0;34m()\u001b[0m\n\u001b[1;32m     31\u001b[0m \u001b[0mtf\u001b[0m\u001b[0;34m.\u001b[0m\u001b[0mcompat\u001b[0m\u001b[0;34m.\u001b[0m\u001b[0mv1\u001b[0m\u001b[0;34m.\u001b[0m\u001b[0mreset_default_graph\u001b[0m\u001b[0;34m(\u001b[0m\u001b[0;34m)\u001b[0m\u001b[0;34m\u001b[0m\u001b[0;34m\u001b[0m\u001b[0m\n\u001b[1;32m     32\u001b[0m \u001b[0;34m\u001b[0m\u001b[0m\n\u001b[0;32m---> 33\u001b[0;31m \u001b[0mX\u001b[0m \u001b[0;34m=\u001b[0m \u001b[0mtf\u001b[0m\u001b[0;34m.\u001b[0m\u001b[0mplaceholder\u001b[0m\u001b[0;34m(\u001b[0m\u001b[0mtf\u001b[0m\u001b[0;34m.\u001b[0m\u001b[0mfloat32\u001b[0m\u001b[0;34m,\u001b[0m \u001b[0;34m[\u001b[0m\u001b[0;32mNone\u001b[0m\u001b[0;34m,\u001b[0m \u001b[0mn_steps\u001b[0m\u001b[0;34m,\u001b[0m \u001b[0mn_inputs\u001b[0m\u001b[0;34m]\u001b[0m\u001b[0;34m)\u001b[0m\u001b[0;34m\u001b[0m\u001b[0;34m\u001b[0m\u001b[0m\n\u001b[0m\u001b[1;32m     34\u001b[0m \u001b[0my\u001b[0m \u001b[0;34m=\u001b[0m \u001b[0mtf\u001b[0m\u001b[0;34m.\u001b[0m\u001b[0mplaceholder\u001b[0m\u001b[0;34m(\u001b[0m\u001b[0mtf\u001b[0m\u001b[0;34m.\u001b[0m\u001b[0mfloat32\u001b[0m\u001b[0;34m,\u001b[0m \u001b[0;34m[\u001b[0m\u001b[0;32mNone\u001b[0m\u001b[0;34m,\u001b[0m \u001b[0mn_outputs\u001b[0m\u001b[0;34m]\u001b[0m\u001b[0;34m)\u001b[0m\u001b[0;34m\u001b[0m\u001b[0;34m\u001b[0m\u001b[0m\n\u001b[1;32m     35\u001b[0m \u001b[0;34m\u001b[0m\u001b[0m\n",
            "\u001b[0;31mAttributeError\u001b[0m: module 'tensorflow' has no attribute 'placeholder'"
          ]
        }
      ]
    },
    {
      "cell_type": "code",
      "source": [
        "ft = 0 # 0 = open, 1 = close, 2 = highest, 3 = lowest\n",
        "\n",
        "## show predictions\n",
        "plt.figure(figsize=(15, 5));\n",
        "plt.subplot(1,2,1);\n",
        "\n",
        "plt.plot(np.arange(y_train.shape[0]), y_train[:,ft], color='blue', label='train target')\n",
        "\n",
        "plt.plot(np.arange(y_train.shape[0], y_train.shape[0]+y_valid.shape[0]), y_valid[:,ft],\n",
        "         color='gray', label='valid target')\n",
        "\n",
        "plt.plot(np.arange(y_train.shape[0]+y_valid.shape[0],\n",
        "                   y_train.shape[0]+y_test.shape[0]+y_test.shape[0]),\n",
        "         y_test[:,ft], color='black', label='test target')\n",
        "\n",
        "plt.plot(np.arange(y_train_pred.shape[0]),y_train_pred[:,ft], color='red',\n",
        "         label='train prediction')\n",
        "\n",
        "plt.plot(np.arange(y_train_pred.shape[0], y_train_pred.shape[0]+y_valid_pred.shape[0]),\n",
        "         y_valid_pred[:,ft], color='orange', label='valid prediction')\n",
        "\n",
        "plt.plot(np.arange(y_train_pred.shape[0]+y_valid_pred.shape[0],\n",
        "                   y_train_pred.shape[0]+y_valid_pred.shape[0]+y_test_pred.shape[0]),\n",
        "         y_test_pred[:,ft], color='green', label='test prediction')\n",
        "\n",
        "plt.title('past and future stock prices')\n",
        "plt.xlabel('time [days]')\n",
        "plt.ylabel('normalized price')\n",
        "plt.legend(loc='best');\n",
        "plt.subplot(1,2,2);\n",
        "\n",
        "plt.plot(np.arange(y_train.shape[0], y_train.shape[0]+y_test.shape[0]),\n",
        "         y_test[:,ft], color='black', label='test target')\n",
        "\n",
        "plt.plot(np.arange(y_train_pred.shape[0], y_train_pred.shape[0]+y_test_pred.shape[0]),\n",
        "         y_test_pred[:,ft], color='green', label='test prediction')\n",
        "\n",
        "plt.title('future stock prices')\n",
        "plt.xlabel('time [days]')\n",
        "plt.ylabel('normalized price')\n",
        "plt.legend(loc='best');\n",
        "\n",
        "corr_price_development_train = np.sum(np.equal(np.sign(y_train[:,1]-y_train[:,0]),\n",
        "            np.sign(y_train_pred[:,1]-y_train_pred[:,0])).astype(int)) / y_train.shape[0]\n",
        "corr_price_development_valid = np.sum(np.equal(np.sign(y_valid[:,1]-y_valid[:,0]),\n",
        "            np.sign(y_valid_pred[:,1]-y_valid_pred[:,0])).astype(int)) / y_valid.shape[0]\n",
        "corr_price_development_test = np.sum(np.equal(np.sign(y_test[:,1]-y_test[:,0]),\n",
        "            np.sign(y_test_pred[:,1]-y_test_pred[:,0])).astype(int)) / y_test.shape[0]\n",
        "\n",
        "print('correct sign prediction for close - open price for train/valid/test: %.2f/%.2f/%.2f'%(\n",
        "    corr_price_development_train, corr_price_development_valid, corr_price_development_test))"
      ],
      "metadata": {
        "colab": {
          "base_uri": "https://localhost:8080/",
          "height": 539
        },
        "id": "s4MOQPn_9ETo",
        "outputId": "19419444-d6f3-485a-de47-bbd4ae945b76"
      },
      "execution_count": null,
      "outputs": [
        {
          "output_type": "error",
          "ename": "NameError",
          "evalue": "ignored",
          "traceback": [
            "\u001b[0;31m---------------------------------------------------------------------------\u001b[0m",
            "\u001b[0;31mNameError\u001b[0m                                 Traceback (most recent call last)",
            "\u001b[0;32m<ipython-input-40-08080b8210a8>\u001b[0m in \u001b[0;36m<module>\u001b[0;34m()\u001b[0m\n\u001b[1;32m     14\u001b[0m          y_test[:,ft], color='black', label='test target')\n\u001b[1;32m     15\u001b[0m \u001b[0;34m\u001b[0m\u001b[0m\n\u001b[0;32m---> 16\u001b[0;31m plt.plot(np.arange(y_train_pred.shape[0]),y_train_pred[:,ft], color='red',\n\u001b[0m\u001b[1;32m     17\u001b[0m          label='train prediction')\n\u001b[1;32m     18\u001b[0m \u001b[0;34m\u001b[0m\u001b[0m\n",
            "\u001b[0;31mNameError\u001b[0m: name 'y_train_pred' is not defined"
          ]
        },
        {
          "output_type": "display_data",
          "data": {
            "text/plain": [
              "<Figure size 1080x360 with 1 Axes>"
            ],
            "image/png": "[encoded data removed]"
          },
          "metadata": {
            "needs_background": "light"
          }
        }
      ]
    }
  ]
}